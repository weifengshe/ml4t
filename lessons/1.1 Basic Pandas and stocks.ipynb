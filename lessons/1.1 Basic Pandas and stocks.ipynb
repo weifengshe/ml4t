{
 "cells": [
  {
   "cell_type": "code",
   "execution_count": 4,
   "metadata": {
    "collapsed": false
   },
   "outputs": [
    {
     "name": "stdout",
     "output_type": "stream",
     "text": [
      "Populating the interactive namespace from numpy and matplotlib\n"
     ]
    }
   ],
   "source": [
    "%pylab inline"
   ]
  },
  {
   "cell_type": "code",
   "execution_count": 5,
   "metadata": {
    "collapsed": true
   },
   "outputs": [],
   "source": [
    "import pandas as pd\n",
    "import matplotlib.pyplot as plt"
   ]
  },
  {
   "cell_type": "markdown",
   "metadata": {},
   "source": [
    "#### Read stock data from csv into data frame"
   ]
  },
  {
   "cell_type": "code",
   "execution_count": 7,
   "metadata": {
    "collapsed": false
   },
   "outputs": [
    {
     "name": "stdout",
     "output_type": "stream",
     "text": [
      "         Date    Open    High     Low   Close    Volume  Adj Close\n",
      "0  2012-09-12  666.85  669.90  656.00  669.79  25410600     669.79\n",
      "1  2012-09-11  665.11  670.10  656.50  660.59  17987400     660.59\n",
      "2  2012-09-10  680.45  683.29  662.10  662.74  17428500     662.74\n",
      "3  2012-09-07  678.05  682.48  675.77  680.44  11773800     680.44\n",
      "4  2012-09-06  673.17  678.29  670.80  676.27  13971300     676.27\n",
      "            Date    Open    High     Low   Close    Volume  Adj Close\n",
      "3170  2000-02-07  108.00  114.25  105.94  114.06  15770800      28.39\n",
      "3171  2000-02-04  103.94  110.00  103.62  108.00  15206800      26.88\n",
      "3172  2000-02-03  100.31  104.25  100.25  103.31  16977600      25.72\n",
      "3173  2000-02-02  100.75  102.12   97.00   98.81  16588800      24.60\n",
      "3174  2000-02-01  104.00  105.00  100.00  100.25  11380000      24.96\n",
      "          Date    Open    High     Low   Close    Volume  Adj Close\n",
      "10  2012-08-28  674.98  676.10  670.67  674.80   9550600     674.80\n",
      "11  2012-08-27  679.99  680.87  673.54  675.68  15250300     675.68\n",
      "12  2012-08-24  659.51  669.48  655.55  663.22  15619300     663.22\n",
      "13  2012-08-23  666.11  669.90  661.15  662.63  15004600     662.63\n",
      "14  2012-08-22  654.42  669.00  648.11  668.87  20190100     668.87\n",
      "15  2012-08-21  670.82  674.88  650.33  656.06  29025700     656.06\n",
      "16  2012-08-20  650.01  665.15  649.90  665.15  21906600     665.15\n",
      "17  2012-08-17  640.00  648.19  638.81  648.11  15812900     648.11\n",
      "18  2012-08-16  631.21  636.76  630.50  636.34   9090500     636.34\n",
      "19  2012-08-15  631.30  634.00  627.75  630.83   9190800     630.83\n",
      "20  2012-08-14  631.87  638.61  630.21  631.69  12148900     631.69\n"
     ]
    }
   ],
   "source": [
    "def test_run():\n",
    "    df = pd.read_csv(\"../data/AAPL.csv\")\n",
    "    print df.head() # print entire df\n",
    "    print df.tail()\n",
    "    print df[10:21] # rows between index 10 and 20 - slicing\n",
    "    \n",
    "test_run()\n",
    "    "
   ]
  },
  {
   "cell_type": "markdown",
   "metadata": {},
   "source": [
    "#### Get maximum close price of a stock in the data frame"
   ]
  },
  {
   "cell_type": "code",
   "execution_count": 11,
   "metadata": {
    "collapsed": false
   },
   "outputs": [
    {
     "name": "stdout",
     "output_type": "stream",
     "text": [
      "Max close\n",
      "AAPL 680.44\n",
      "Max close\n",
      "IBM 209.5\n"
     ]
    }
   ],
   "source": [
    "def get_max_close(symbol):\n",
    "    '''Return the maximum closing value for stock indicated by symbol.\n",
    "    \n",
    "    Note: Data for a stock is stored in file: data/<symbol>/csv\n",
    "    '''\n",
    "    \n",
    "    df = pd.read_csv(\"../data/{}.csv\".format(symbol)) # read in the data\n",
    "    return df['Close'].max() # compare the closing values and return max\n",
    "\n",
    "for symbol in ['AAPL', 'IBM']:\n",
    "    print \"Max close\"\n",
    "    print symbol, get_max_close(symbol)\n",
    "    \n",
    "    "
   ]
  },
  {
   "cell_type": "markdown",
   "metadata": {},
   "source": [
    "#### Get mean volume of a stock in the  data frame"
   ]
  },
  {
   "cell_type": "code",
   "execution_count": 12,
   "metadata": {
    "collapsed": false
   },
   "outputs": [
    {
     "name": "stdout",
     "output_type": "stream",
     "text": [
      "Mean volume\n",
      "AAPL 21491431.3386\n",
      "Mean volume\n",
      "IBM 7103570.80315\n"
     ]
    }
   ],
   "source": [
    "def get_mean_volume(symbol):\n",
    "    '''Return the mean volume for stock indicated by symbol.\n",
    "    \n",
    "    Note: Data for a stock is stored in file: data/<symbol>/csv\n",
    "    '''\n",
    "    \n",
    "    df = pd.read_csv(\"../data/{}.csv\".format(symbol)) # read in the data\n",
    "    return df['Volume'].mean() # compare the volume and return mean\n",
    "\n",
    "for symbol in ['AAPL', 'IBM']:\n",
    "    print \"Mean volume\"\n",
    "    print symbol, get_mean_volume(symbol)"
   ]
  },
  {
   "cell_type": "markdown",
   "metadata": {},
   "source": [
    "#### Plot adjusted close price of a symbol (AAPL)"
   ]
  },
  {
   "cell_type": "code",
   "execution_count": 13,
   "metadata": {
    "collapsed": false
   },
   "outputs": [
    {
     "name": "stdout",
     "output_type": "stream",
     "text": [
      "0    669.79\n",
      "1    660.59\n",
      "2    662.74\n",
      "3    680.44\n",
      "4    676.27\n",
      "Name: Adj Close, dtype: float64\n"
     ]
    },
    {
     "data": {
      "image/png": "[encoded data removed]",
      "text/plain": [
       "<matplotlib.figure.Figure at 0x1078c8790>"
      ]
     },
     "metadata": {},
     "output_type": "display_data"
    }
   ],
   "source": [
    "# Plot Adjusted Close prices for AAPL\n",
    "\n",
    "df = pd.read_csv('../data/AAPL.csv')\n",
    "print df['Adj Close'].head()\n",
    "df['Adj Close'].plot()\n",
    "plt.show()"
   ]
  },
  {
   "cell_type": "markdown",
   "metadata": {},
   "source": [
    "#### Plot high prices for a symbol (IBM)"
   ]
  },
  {
   "cell_type": "code",
   "execution_count": 15,
   "metadata": {
    "collapsed": false
   },
   "outputs": [
    {
     "name": "stdout",
     "output_type": "stream",
     "text": [
      "0    204.65\n",
      "1    203.46\n",
      "2    201.82\n",
      "3    199.50\n",
      "4    199.46\n",
      "Name: High, dtype: float64\n"
     ]
    },
    {
     "data": {
      "image/png": "[encoded data removed]",
      "text/plain": [
       "<matplotlib.figure.Figure at 0x1078c1c10>"
      ]
     },
     "metadata": {},
     "output_type": "display_data"
    }
   ],
   "source": [
    "# Plot high prices for IBM\n",
    "\n",
    "df = pd.read_csv('../data/IBM.csv')\n",
    "print df['High'].head()\n",
    "df['High'].plot()\n",
    "plt.show()"
   ]
  },
  {
   "cell_type": "markdown",
   "metadata": {},
   "source": [
    "#### Plot any two columns from the dataframe for a stock (AAPL)"
   ]
  },
  {
   "cell_type": "code",
   "execution_count": 16,
   "metadata": {
    "collapsed": false
   },
   "outputs": [
    {
     "name": "stdout",
     "output_type": "stream",
     "text": [
      "    Close  Adj Close\n",
      "0  669.79     669.79\n",
      "1  660.59     660.59\n",
      "2  662.74     662.74\n",
      "3  680.44     680.44\n",
      "4  676.27     676.27\n"
     ]
    },
    {
     "data": {
      "image/png": "[encoded data removed]",
      "text/plain": [
       "<matplotlib.figure.Figure at 0x107bb6090>"
      ]
     },
     "metadata": {},
     "output_type": "display_data"
    }
   ],
   "source": [
    "# Plot 2 columns on one graph\n",
    "\n",
    "df = pd.read_csv('../data/AAPL.csv')\n",
    "print df[['Close', 'Adj Close']].head()\n",
    "df[['Close', 'Adj Close']].plot()\n",
    "plt.show()"
   ]
  },
  {
   "cell_type": "markdown",
   "metadata": {},
   "source": [
    "The difference in Adjusted Close and Close Price is because"
   ]
  }
 ],
 "metadata": {
  "kernelspec": {
   "display_name": "Python 2",
   "language": "python",
   "name": "python2"
  },
  "language_info": {
   "codemirror_mode": {
    "name": "ipython",
    "version": 2
   },
   "file_extension": ".py",
   "mimetype": "text/x-python",
   "name": "python",
   "nbconvert_exporter": "python",
   "pygments_lexer": "ipython2",
   "version": "2.7.8"
  }
 },
 "nbformat": 4,
 "nbformat_minor": 0
}
