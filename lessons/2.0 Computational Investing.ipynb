{
 "cells": [
  {
   "cell_type": "markdown",
   "metadata": {},
   "source": [
    "### Types of Funds"
   ]
  },
  {
   "cell_type": "markdown",
   "metadata": {},
   "source": [
    "- Exchange Traded Funds (ETF) - Can buy/sell like stocks, basket of stocks and completely transperent. They are liquid like stocks since they are easy to trade. Ticker symbols are usually 5 letters. Manager compensation is based on expense ratio of range 0.01% to 1%. \n",
    "- Mutual Funds - Can buy/sell only at end of the day, basket disclosed quaterly and hence less transperent. Ticker symbols are usually 4 or 3 letters. Manager compensation is based on expense ratio of range 0.5% to 3%. \n",
    "- Hedge Funds - Can buy/sell only by agreement, basket is never disclosed and hence very less transperent. No stock symbols. Manager compensation usually uses \"Two & Twenty\" where two uis 2% of AUM and 20% of profits. "
   ]
  },
  {
   "cell_type": "markdown",
   "metadata": {},
   "source": [
    "- Large cap (captilization) - High value stocks\n",
    "- Small cap - Low value stocks\n",
    "- Assets Under Management (AUM) - States how money is managed by the fund. Part of the compensation of managers is a percentage of the AUM.\n",
    "- Expense Ratio - Some percentage of AUM"
   ]
  },
  {
   "cell_type": "markdown",
   "metadata": {},
   "source": [
    "#### Hedge Fund Goals & Metrics\n",
    "###### Goals:\n",
    "- Beat the bench mark (for example beat SPY. Rule is select benchmark where you have expertise) \n",
    "- Absolute return (Long - positive bets that stock will go up & Short - negative bets on stocks that stock will go down)\n",
    "\n",
    "###### Metrics:\n",
    "- Cumulative return\n",
    "- Volatility\n",
    "- Risk/Reward (usually using sharpe ratio)"
   ]
  },
  {
   "cell_type": "markdown",
   "metadata": {},
   "source": [
    "### Market Mechanics"
   ]
  },
  {
   "cell_type": "markdown",
   "metadata": {},
   "source": [
    "- Contents of an order: buy/sell, symbol, how many shares and finally limit/market order. \n",
    "- Exchange keeps an order book for each order they buy/sell.\n",
    "- Two brokers can trade with each other w/o going thro' an exchange using \"dark pool\".\n",
    "\n",
    "#### Order Types\n",
    "##### Handled by Exchange:\n",
    "- Buy/Sell\n",
    "- Limit/Market\n",
    "\n",
    "##### Handled only by Broker:\n",
    "- Stop loss - Sell stock when it reaches a certian lower price.\n",
    "- Stop gain - Sell stock When it reaches a certain higher price.\n",
    "- Trailing stop - version of stop loss , the stop trails the stock until stop loss is triggered.\n",
    "- Selling short - Betting against a stock."
   ]
  },
  {
   "cell_type": "markdown",
   "metadata": {},
   "source": [
    "### Value of a Company"
   ]
  },
  {
   "cell_type": "markdown",
   "metadata": {},
   "source": [
    "- Intrinsic value (future dividends potential)\n",
    "- Book value (assests owned)\n",
    "- Market cap (available stocks in the market)"
   ]
  },
  {
   "cell_type": "markdown",
   "metadata": {},
   "source": [
    "#### Intrinsic Value:\n",
    "- Present Value  = (Future Value)/(1 + Interest Rate)* *i; where i = number of years (how far in future). Hence, the present value is less for higher interest rates.\n",
    "- The denominator of the above equation is called the Discount Rate. Present Value = Future Value/Discount Rate.This gives the intrinsic value of the company.\n",
    "\n",
    "#### Book Value:\n",
    "- Book Value = Total Assests - Intangible Assests - Liabilities.\n",
    "\n",
    "#### Market Captilization:\n",
    "- Market Cap = Number of outstanding stocks * Price of the stock"
   ]
  },
  {
   "cell_type": "markdown",
   "metadata": {},
   "source": [
    "### The Capital Asset Pricing Model (CAPM)"
   ]
  },
  {
   "cell_type": "markdown",
   "metadata": {},
   "source": [
    "- Portfolio is a weighted set of assets. $$r_{p}(t)=\\sum w_{i}r_{i}(t)$$\n",
    "- Absolute sum of portion of assets should be one.  $$\\sum_{i}abs(w_{i})$$\n",
    "- Market Portfolio (USA - SP 500, UK - FTA , JAPAN - TOPIX) is combination of different stocks in a weighed schema.\n",
    "- Cap Weighted - Weight of individual stocks in a market portfolio is set according to its market cap. $$w_{i}= mktcap_{i} / \\sum_{j}mktcap_{j}$$\n",
    "\n",
    "#### CAPM Equation:\n",
    "- Return on an individual stock in a portfolio = beta (of the day) times the return on the market plus alpha times of that stock on a given day $$r_{i}(t)=\\beta_{i}r_{m}(t) + \\alpha_{i}(t)$$\n",
    "- Above equation indicates that market movement affects a stock. \n",
    "- Beta is the slope of the line and alpha is the y intercept.\n",
    "- CAPM states value of alpha is random, cannot be predicted and its expected value is zero.\n",
    "\n",
    "#### CAPM (passive) vs. Active Management:\n",
    "- Passive - buy index and hold\n",
    "- Active - pick stocks\n",
    "- Passive and active agree on beta but they disagree on alpha. Active managers believe they can predict alpha.\n",
    "\n",
    "#### CAPM for portfolio:\n",
    "$$ r_{p}(t)=\\sum w_{i}(\\beta_{i}r_{m}(t) + \\alpha_{i}(t)) $$ where $$\\beta_{p}=\\sum_{i}(\\beta_{i}r_{m}(t) $$ so the equation can be rewritten as $$ r_{p}(t)=beta_{p}r_{m}(t) + \\alpha_{p}(t)$$\n",
    "\n",
    "- Hence larger beta is preferred for upward market and a smaller beta is preferred for downward market.\n",
    "\n",
    "-  Arbitrage Pricing Theory (APT) states use mulitple beta's based on stock sector."
   ]
  },
  {
   "cell_type": "markdown",
   "metadata": {},
   "source": [
    "### Technical Analysis"
   ]
  },
  {
   "cell_type": "markdown",
   "metadata": {},
   "source": [
    "#### Momentum:\n",
    "- How much the price of stock changes over a period of days. Momentum = price[t]/(price[t-n] - 1); n = number of days.\n",
    "\n",
    "#### Simple Moving Average (SMA):\n",
    "- SMA is an average over a period of days and creates a smoothing curve. It has lag based on the initial window. It acts a proxy for value by exposing large excursions from the average exposing a buy/sell oppurtunity. \n",
    "- SMA = price[t] / (price[t-n:t].mean()); n = number of days.\n",
    "\n",
    "#### Bollinger Bands:\n",
    "- In a SMA, add two extra curves; one 2 sigma and one of -2 sigma (sigma = std) and this will help expose buy/sell deviations outside these two new +-2sigma curves. \n",
    "- BB for day t = (price[t] - SMA[t]) / (2*std[t])"
   ]
  }
 ],
 "metadata": {
  "kernelspec": {
   "display_name": "Python 2",
   "language": "python",
   "name": "python2"
  },
  "language_info": {
   "codemirror_mode": {
    "name": "ipython",
    "version": 2
   },
   "file_extension": ".py",
   "mimetype": "text/x-python",
   "name": "python",
   "nbconvert_exporter": "python",
   "pygments_lexer": "ipython2",
   "version": "2.7.8"
  }
 },
 "nbformat": 4,
 "nbformat_minor": 0
}
