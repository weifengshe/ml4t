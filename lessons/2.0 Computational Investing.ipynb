{
 "cells": [
  {
   "cell_type": "markdown",
   "metadata": {},
   "source": [
    "### Types of Funds"
   ]
  },
  {
   "cell_type": "markdown",
   "metadata": {},
   "source": [
    "- Exchange Traded Funds (ETF) - Can buy/sell like stocks, basket of stocks and completely transperent. They are liquid like stocks since they are easy to trade. Ticker symbols are usually 5 letters. Manager compensation is based on expense ratio of range 0.01% to 1%. \n",
    "- Mutual Funds - Can buy/sell only at end of the day, basket disclosed quaterly and hence less transperent. Ticker symbols are usually 4 or 3 letters. Manager compensation is based on expense ratio of range 0.5% to 3%. \n",
    "- Hedge Funds - Can buy/sell only by agreement, basket is never disclosed and hence very less transperent. No stock symbols. Manager compensation usually uses \"Two & Twenty\" where two uis 2% of AUM and 20% of profits. "
   ]
  },
  {
   "cell_type": "markdown",
   "metadata": {},
   "source": [
    "- Large cap (captilization) - High value stocks\n",
    "- Small cap - Low value stocks\n",
    "- Assets Under Management (AUM) - States how money is managed by the fund. Part of the compensation of managers is a percentage of the AUM.\n",
    "- Expense Ratio - Some percentage of AUM"
   ]
  },
  {
   "cell_type": "markdown",
   "metadata": {},
   "source": [
    "#### Hedge Fund Goals & Metrics\n",
    "###### Goals:\n",
    "- Beat the bench mark (for example beat SPY. Rule is select benchmark where you have expertise) \n",
    "- Absolute return (Long - positive bets that stock will go up & Short - negative bets on stocks that stock will go down)\n",
    "\n",
    "###### Metrics:\n",
    "- Cumulative return\n",
    "- Volatility\n",
    "- Risk/Reward (usually using sharpe ratio)"
   ]
  },
  {
   "cell_type": "markdown",
   "metadata": {},
   "source": [
    "### Market Mechanics"
   ]
  },
  {
   "cell_type": "markdown",
   "metadata": {},
   "source": [
    "- Contents of an order: buy/sell, symbol, how many shares and finally limit/market order. \n",
    "- Exchange keeps an order book for each order they buy/sell.\n",
    "- Two brokers can trade with each other w/o going thro' an exchange using \"dark pool\".\n",
    "\n",
    "#### Order Types\n",
    "##### Handled by Exchange:\n",
    "- Buy/Sell\n",
    "- Limit/Market\n",
    "\n",
    "##### Handled only by Broker:\n",
    "- Stop loss - Sell stock when it reaches a certian lower price.\n",
    "- Stop gain - Sell stock When it reaches a certain higher price.\n",
    "- Trailing stop - version of stop loss , the stop trails the stock until stop loss is triggered.\n",
    "- Selling short - Betting against a stock."
   ]
  },
  {
   "cell_type": "markdown",
   "metadata": {},
   "source": [
    "### Value of a Company"
   ]
  },
  {
   "cell_type": "markdown",
   "metadata": {},
   "source": [
    "- Intrinsic value (future dividends potential)\n",
    "- Book value (assests owned)\n",
    "- Market cap (available stocks in the market)"
   ]
  },
  {
   "cell_type": "markdown",
   "metadata": {},
   "source": [
    "### The Capital Asset Pricing Model (CAPM)"
   ]
  },
  {
   "cell_type": "markdown",
   "metadata": {},
   "source": [
    "- Portfolio is a weighted set of assets.\n",
    "- Absolute sum of portion of assets should be one.  $$\\sum_{i}abs(w_{i})$$\n",
    "- Market Portfolio (USA - SP 500, UK - FTA , JAPAN - TOPIX) is combination of different stocks in a weighed schema.\n",
    "- Cap Weighted - Weight of individual stocks in a market portfolio is set according to its market cap. $$w_{i}= mktcap_{i}/\\sum_{j}mktcap_{j}$$\n"
   ]
  }
 ],
 "metadata": {
  "kernelspec": {
   "display_name": "Python 2",
   "language": "python",
   "name": "python2"
  },
  "language_info": {
   "codemirror_mode": {
    "name": "ipython",
    "version": 2
   },
   "file_extension": ".py",
   "mimetype": "text/x-python",
   "name": "python",
   "nbconvert_exporter": "python",
   "pygments_lexer": "ipython2",
   "version": "2.7.8"
  }
 },
 "nbformat": 4,
 "nbformat_minor": 0
}
