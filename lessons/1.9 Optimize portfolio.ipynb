{
 "cells": [
  {
   "cell_type": "markdown",
   "metadata": {},
   "source": [
    "### Portfolio optimization: \n",
    "- given a set of assets and a time period, find an allocation of funds to assets that maximizes performance.\n",
    "\n",
    "### Performance:  \n",
    "- many possibilities, but use Sharpe ratio\n",
    "\n",
    "### Ranges\n",
    "- Limits on values for x (here: 0-1)\n",
    "\n",
    "### Constraints\n",
    "- Allocations must sum to 1\n",
    "\n",
    "### Plan\n",
    "- Parameters: fund allocation\n",
    "- Objective: Maximize Sharpe ratio of portfolio\n",
    "- Build function to calculate fund performance with allocation as input\n",
    "- Run it through a maximizer"
   ]
  }
 ],
 "metadata": {
  "kernelspec": {
   "display_name": "Python 2",
   "language": "python",
   "name": "python2"
  },
  "language_info": {
   "codemirror_mode": {
    "name": "ipython",
    "version": 2
   },
   "file_extension": ".py",
   "mimetype": "text/x-python",
   "name": "python",
   "nbconvert_exporter": "python",
   "pygments_lexer": "ipython2",
   "version": "2.7.8"
  }
 },
 "nbformat": 4,
 "nbformat_minor": 0
}
