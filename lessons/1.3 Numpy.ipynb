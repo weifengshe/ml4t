{
 "cells": [
  {
   "cell_type": "markdown",
   "metadata": {},
   "source": [
    "Motivation and summary\n",
    "* Syntax to access ndarray (n-dim array):  nd1 = df.values\n",
    "* df gives more methods\n",
    "* addressing: nd[row, column], 0 indexed\n",
    "* nd[0:3, 1:3] - uses slices. last value is one past what you want\n",
    "* nd[:,1:3] - colon indicates 'all'\n",
    "* nd[-1:-2, :] - last two rows, all columns\n",
    "* nd[-3:, :] - last three rows, all columns"
   ]
  },
  {
   "cell_type": "code",
   "execution_count": 1,
   "metadata": {
    "collapsed": true
   },
   "outputs": [],
   "source": [
    "import numpy as np"
   ]
  },
  {
   "cell_type": "markdown",
   "metadata": {},
   "source": [
    "- numpy is a wrapper for arithmetic libraries while pandas is a wrapper for numpy.\n",
    "- numpy array is represented as arr[rows,columns].\n",
    "- rows count start from 0 (0 for first row) and columns start from 0 (0 for first row).\n",
    "- arr[0:3, 1:3] indicates starting from first row, select all rows just before the third row and select columns starting from second to columns just before the fourth column. \n",
    "- arr[:,3] indicates select all rows and third column only.\n",
    "- arr[-1, 1:3] indicates last row and select columns starting from second to columns just before the fourth column. \n",
    "- arr[-2,1:3] indicates last 2 rows and select columns starting from second to columns just before the fourth column.\n",
    "- arr.sum(axis=0) - sums all columns.\n",
    "- arr.sum(axis=1) - sum all rows.\n",
    "- arr.argmax() - finds maximum value of an array along with the index.\n",
    "- arr[:,n:m:t] indicates all rows and specifies range that starts at n and stops just before m, in increments of t.\n",
    "- arr[:,3] = [1,2,3,4,5] - all the rows for column three will be assigned with the corresponding values in the list. Elements in array should be equal to number of rows. \n",
    "- indices = np.array([1,1,2,3) and arr[indicies) - will return the value in corresponding indicies in the array arr. \n",
    "- arr[arr<arr.mean()] will return a boolean array corresponding to values less or greater than mean of the array. "
   ]
  },
  {
   "cell_type": "code",
   "execution_count": 2,
   "metadata": {
    "collapsed": false
   },
   "outputs": [
    {
     "name": "stdout",
     "output_type": "stream",
     "text": [
      "[2 3 4]\n",
      "[2 3 4]\n"
     ]
    }
   ],
   "source": [
    "# one dimensional array - can pass list or tuple\n",
    "\n",
    "print np.array([2,3,4])\n",
    "print np.array((2,3,4))"
   ]
  },
  {
   "cell_type": "code",
   "execution_count": 3,
   "metadata": {
    "collapsed": false
   },
   "outputs": [
    {
     "name": "stdout",
     "output_type": "stream",
     "text": [
      "[[2 3 4]\n",
      " [5 6 7]]\n",
      "[[2 3 4]\n",
      " [5 6 7]]\n"
     ]
    }
   ],
   "source": [
    "# 2D array - note the use of tuples. list of lists also works\n",
    "\n",
    "print np.array([(2,3,4), (5,6,7)])\n",
    "print np.array([[2,3,4], [5,6,7]])"
   ]
  },
  {
   "cell_type": "code",
   "execution_count": 4,
   "metadata": {
    "collapsed": false
   },
   "outputs": [
    {
     "name": "stdout",
     "output_type": "stream",
     "text": [
      "[ -1.49166815e-154  -1.49166815e-154  -1.49166815e-154  -1.49166815e-154\n",
      "   2.27634690e-314]\n",
      "[[ -1.49166815e-154  -1.29074108e-231   1.33397724e-322   0.00000000e+000\n",
      "    0.00000000e+000]\n",
      " [  0.00000000e+000   0.00000000e+000   0.00000000e+000   0.00000000e+000\n",
      "    0.00000000e+000]\n",
      " [  0.00000000e+000   0.00000000e+000   0.00000000e+000   0.00000000e+000\n",
      "    0.00000000e+000]\n",
      " [  3.04763097e-047  -1.49166815e-154  -1.49166815e-154   9.38724727e-323\n",
      "    0.00000000e+000]\n",
      " [  0.00000000e+000   0.00000000e+000   0.00000000e+000   0.00000000e+000\n",
      "    0.00000000e+000]]\n"
     ]
    }
   ],
   "source": [
    "# print empty array\n",
    "\n",
    "print np.empty(5) # 1D empty array\n",
    "print np.empty((5,5)) # 2D empty array. note tuple"
   ]
  },
  {
   "cell_type": "code",
   "execution_count": 5,
   "metadata": {
    "collapsed": false
   },
   "outputs": [
    {
     "name": "stdout",
     "output_type": "stream",
     "text": [
      "[[ 1.  1.  1.  1.]\n",
      " [ 1.  1.  1.  1.]\n",
      " [ 1.  1.  1.  1.]]\n",
      "[[1 1 1 1]\n",
      " [1 1 1 1]\n",
      " [1 1 1 1]]\n"
     ]
    }
   ],
   "source": [
    "# array of ones\n",
    "\n",
    "print np.ones((3,4))  # default data type is float\n",
    "\n",
    "print np.ones((3,4), dtype = np.int)"
   ]
  },
  {
   "cell_type": "code",
   "execution_count": 6,
   "metadata": {
    "collapsed": false
   },
   "outputs": [
    {
     "name": "stdout",
     "output_type": "stream",
     "text": [
      "[[ 0.  0.]\n",
      " [ 0.  0.]\n",
      " [ 0.  0.]]\n"
     ]
    }
   ],
   "source": [
    "# array of zeros\n",
    "\n",
    "print np.zeros((3,2))"
   ]
  },
  {
   "cell_type": "code",
   "execution_count": 7,
   "metadata": {
    "collapsed": false
   },
   "outputs": [
    {
     "name": "stdout",
     "output_type": "stream",
     "text": [
      "[[ 0.06531845  0.17775963  0.37950709  0.48012686]\n",
      " [ 0.22297962  0.47914366  0.15477302  0.39926873]\n",
      " [ 0.79750043  0.9124455   0.81617678  0.97298675]\n",
      " [ 0.62660162  0.90897593  0.76247059  0.48186172]\n",
      " [ 0.68951619  0.49132777  0.61910407  0.91064385]]\n",
      "[[ 0.49810953  0.45276565  0.69993874  0.7483208 ]\n",
      " [ 0.03177126  0.71305821  0.59738901  0.84252462]\n",
      " [ 0.41806687  0.48729968  0.9594253   0.73853706]\n",
      " [ 0.48190406  0.86163011  0.54101885  0.01652832]\n",
      " [ 0.44425984  0.19145369  0.76210047  0.22960039]]\n"
     ]
    }
   ],
   "source": [
    "# Random values from [0.0, 1.0)\n",
    "\n",
    "print np.random.random((5,4))\n",
    "\n",
    "print np.random.rand(5,4)  # rand doesn't require a tuple"
   ]
  },
  {
   "cell_type": "code",
   "execution_count": 8,
   "metadata": {
    "collapsed": false
   },
   "outputs": [
    {
     "name": "stdout",
     "output_type": "stream",
     "text": [
      "[[-0.98352994 -0.27961055 -0.07417865]\n",
      " [-0.00640134  0.2940844  -1.85257166]]\n",
      "[[ 46.90191452  45.97588532  46.42122416]\n",
      " [ 50.42740941  52.93003555  37.44184799]]\n"
     ]
    }
   ],
   "source": [
    "# Sample numbers from a Gaussian (normal) distribution\n",
    "\n",
    "print np.random.normal(size = (2,3)) # standard normal\n",
    "\n",
    "print np.random.normal(50,10, size = (2,3)) # mean 50, sd 10"
   ]
  },
  {
   "cell_type": "code",
   "execution_count": 9,
   "metadata": {
    "collapsed": false
   },
   "outputs": [
    {
     "name": "stdout",
     "output_type": "stream",
     "text": [
      "4\n",
      "6\n",
      "[2 0 8 0 8]\n",
      "[[3 3 0]\n",
      " [1 1 1]]\n"
     ]
    }
   ],
   "source": [
    "# Random integers\n",
    "\n",
    "print np.random.randint(10) # a single integer in [0, 10)\n",
    "print np.random.randint(0, 10) # a random integer [low, high)\n",
    "print np.random.randint(0, 10, size = 5) # 5 random integers as a 1D array\n",
    "print np.random.randint(0,10, size = (2,3)) # Random integers between [0, 10) as a 2x3 array"
   ]
  },
  {
   "cell_type": "code",
   "execution_count": 10,
   "metadata": {
    "collapsed": false
   },
   "outputs": [
    {
     "name": "stdout",
     "output_type": "stream",
     "text": [
      "(5, 4)\n",
      "5\n",
      "4\n",
      "2\n",
      "20\n",
      "float64\n"
     ]
    }
   ],
   "source": [
    "# Numpy array attributes\n",
    "\n",
    "a = np.random.random((5,4))\n",
    "# print a\n",
    "print a.shape  # attribute shape gives dimensions of array\n",
    "print a.shape[0] # number of rows\n",
    "print a.shape[1] # number of columns\n",
    "print len(a.shape) # gives number of dimensions\n",
    "print a.size # gives number of elements\n",
    "print a.dtype # gives the data type of the elements"
   ]
  },
  {
   "cell_type": "code",
   "execution_count": 11,
   "metadata": {
    "collapsed": false
   },
   "outputs": [
    {
     "name": "stdout",
     "output_type": "stream",
     "text": [
      "[[2 0 5 1]\n",
      " [1 3 4 4]\n",
      " [9 2 9 1]\n",
      " [9 3 7 5]\n",
      " [4 7 0 3]]\n",
      "Sum of all elements: 79\n",
      "Sum of each column: [25 15 25 14]\n",
      "Sum of each row: [ 8 12 21 24 14]\n",
      "Min of columns: [1 0 0 1]\n",
      "Max of rows: [5 4 9 9 7]\n",
      "Mean of all elements: 3.95\n"
     ]
    }
   ],
   "source": [
    "# Operations on arrays\n",
    "\n",
    "np.random.seed(693)\n",
    "a = np.random.randint(0,10, size = (5, 4))\n",
    "print a\n",
    "\n",
    "# Sum of all elements\n",
    "print 'Sum of all elements:', a.sum()\n",
    "\n",
    "# Sum by axis. Think of this as which dimension\n",
    "# is being collapsed, or which dimension you're\n",
    "# iterating over\n",
    "print 'Sum of each column:', a.sum(axis=0)\n",
    "print 'Sum of each row:', a.sum(axis=1)\n",
    "\n",
    "# Stats: min, max, mean (rows, cols, overall)\n",
    "print 'Min of columns:', a.min(axis=0)\n",
    "print 'Max of rows:', a.max(axis=1)\n",
    "print 'Mean of all elements:', a.mean()"
   ]
  },
  {
   "cell_type": "code",
   "execution_count": 12,
   "metadata": {
    "collapsed": false
   },
   "outputs": [
    {
     "name": "stdout",
     "output_type": "stream",
     "text": [
      "Maximum value: 14\n",
      "Index of max: 5\n"
     ]
    }
   ],
   "source": [
    "# Locate the maximum value\n",
    "\n",
    "def get_max_index(a):\n",
    "    '''Return the index of the max value in a \n",
    "    given 1D array'''\n",
    "    return a.argmax()\n",
    "\n",
    "a = np.array([9,6,2,3,12,14,7,10], dtype=np.int32)\n",
    "print \"Maximum value:\", a.max()\n",
    "print \"Index of max:\", get_max_index(a)\n",
    "\n",
    "# Tougher for multi-dimensional arrays. Numpy offers\n",
    "# unravel_index() (???) to help"
   ]
  },
  {
   "cell_type": "code",
   "execution_count": 13,
   "metadata": {
    "collapsed": false
   },
   "outputs": [
    {
     "name": "stdout",
     "output_type": "stream",
     "text": [
      "Numpy is  246.351592622  times faster than manual\n"
     ]
    }
   ],
   "source": [
    "# Utilizing the time function\n",
    "\n",
    "from time import time\n",
    "\n",
    "def how_long(func, *args):\n",
    "    '''Execute function with given arguments, and\n",
    "    measure execution time.'''\n",
    "    t0 = time()\n",
    "    result = func(*args)\n",
    "    t1 = time()\n",
    "    return result, t1 - t0\n",
    "    \n",
    "def manual_mean(arr):\n",
    "    '''Compute mean of all elements in a 2D array'''\n",
    "    sum = 0\n",
    "    for i in xrange(0, arr.shape[0]):\n",
    "        for j in xrange(0, arr.shape[1]):\n",
    "            sum += arr[i,j]\n",
    "    return sum / arr.size\n",
    "\n",
    "def numpy_mean(arr):\n",
    "    return arr.mean()\n",
    "\n",
    "nd1 = np.random.random((1000, 10000))\n",
    "\n",
    "res_manual, t_manual = how_long(manual_mean, nd1)\n",
    "res_numpy, t_numpy = how_long(numpy_mean, nd1)\n",
    "speedup = t_manual / t_numpy\n",
    "\n",
    "print 'Numpy is ', speedup, ' times faster than manual'"
   ]
  },
  {
   "cell_type": "code",
   "execution_count": 14,
   "metadata": {
    "collapsed": false
   },
   "outputs": [
    {
     "name": "stdout",
     "output_type": "stream",
     "text": [
      "0.262247693848\n",
      "[ 0.19443186  0.15294266]\n",
      "[[ 0.76484993  0.19443186]\n",
      " [ 0.7152339   0.68874783]]\n",
      "[[ 0.76484993  0.15294266]\n",
      " [ 0.7152339   0.55787223]\n",
      " [ 0.7906318   0.31082212]\n",
      " [ 0.38303999  0.26224769]\n",
      " [ 0.36169014  0.03944179]]\n",
      "[[ 0.76484993  0.15294266]\n",
      " [ 0.7152339   0.55787223]\n",
      " [ 0.7906318   0.31082212]\n",
      " [ 0.38303999  0.26224769]\n",
      " [ 0.36169014  0.03944179]]\n",
      "[[ 2.          2.          2.          1.        ]\n",
      " [ 0.7152339   0.68874783  0.55787223  2.        ]\n",
      " [ 0.7906318   0.70489628  0.31082212  3.        ]\n",
      " [ 0.38303999  0.21038991  0.26224769  4.        ]\n",
      " [ 0.36169014  0.65767671  0.03944179  5.        ]]\n"
     ]
    }
   ],
   "source": [
    "# Accessing array elements\n",
    "\n",
    "a = np.random.rand(5,4)\n",
    "\n",
    "# Access element at postion (3, 2) # remember 0 indexing!\n",
    "print a[3,2]\n",
    "\n",
    "# Elements in defined range\n",
    "print a[0, 1:3]\n",
    "print a[0:2, 0:2]\n",
    "print a[:, 0:3:2] # 0 to 3 is steps of size 2\n",
    "print a[:, [0,2]] # same thing with a list\n",
    "\n",
    "# assign values to specific elements\n",
    "\n",
    "a[0,0] = 1 # replace one element\n",
    "\n",
    "a[0, :] = 2 # replace the entire first row\n",
    "\n",
    "a[:, 3] = [1, 2, 3, 4, 5]\n",
    "\n",
    "print a"
   ]
  },
  {
   "cell_type": "code",
   "execution_count": 15,
   "metadata": {
    "collapsed": false
   },
   "outputs": [
    {
     "name": "stdout",
     "output_type": "stream",
     "text": [
      "[ 0.91277862  0.19925213  0.82660771  0.13349003  0.28854294]\n",
      "[ 0.19925213  0.19925213  0.82660771  0.13349003]\n"
     ]
    }
   ],
   "source": [
    "# Indexing an array with another array\n",
    "\n",
    "a = np.random.rand(5)\n",
    "print a\n",
    "\n",
    "indices = np.array([1,1,2,3])\n",
    "\n",
    "print a[indices]"
   ]
  },
  {
   "cell_type": "code",
   "execution_count": 16,
   "metadata": {
    "collapsed": false
   },
   "outputs": [
    {
     "name": "stdout",
     "output_type": "stream",
     "text": [
      "[[20 25 10 23 26 32 10  5  0]\n",
      " [ 0  2 50 20  0  1 28  5  0]]\n",
      "14.2777777778\n",
      "[10 10  5  0  0  2  0  1  5  0]\n",
      "[[20 25 14 23 26 32 14 14 14]\n",
      " [14 14 50 20 14 14 28 14 14]]\n"
     ]
    }
   ],
   "source": [
    "# Boolean or Mask index arrays\n",
    "\n",
    "a = np.array([(20, 25, 10, 23, 26, 32, 10, 5, 0),\n",
    "              (0, 2, 50, 20, 0, 1, 28, 5, 0)])\n",
    "print a\n",
    "\n",
    "mean = a.mean()\n",
    "print mean\n",
    "\n",
    "# Masking\n",
    "print a[a < mean]\n",
    "\n",
    "# Replacement\n",
    "\n",
    "a[a < mean] = mean\n",
    "print a"
   ]
  },
  {
   "cell_type": "code",
   "execution_count": 17,
   "metadata": {
    "collapsed": false
   },
   "outputs": [
    {
     "name": "stdout",
     "output_type": "stream",
     "text": [
      "[[ 1  2  3  4  5]\n",
      " [10 20 30 40 50]]\n",
      "[[  2   4   6   8  10]\n",
      " [ 20  40  60  80 100]]\n",
      "[[101 202 303 404 505]\n",
      " [ 11  22  33  44  55]]\n",
      "[[ 100  400  900 1600 2500]\n",
      " [  10   40   90  160  250]]\n"
     ]
    }
   ],
   "source": [
    "# Arithmetic operations (1.3.21)\n",
    "\n",
    "# always applied element-wise\n",
    "\n",
    "a = np.array([(1, 2, 3, 4, 5),\n",
    "              (10, 20, 30, 40, 50)])\n",
    "\n",
    "print a\n",
    "\n",
    "print 2 * a\n",
    "\n",
    "b = np.array([(100, 200, 300, 400, 500),\n",
    "              (1, 2, 3, 4, 5)])\n",
    "\n",
    "print a + b\n",
    "\n",
    "print a * b # element-wise multiplication"
   ]
  }
 ],
 "metadata": {
  "kernelspec": {
   "display_name": "Python 2",
   "language": "python",
   "name": "python2"
  },
  "language_info": {
   "codemirror_mode": {
    "name": "ipython",
    "version": 2
   },
   "file_extension": ".py",
   "mimetype": "text/x-python",
   "name": "python",
   "nbconvert_exporter": "python",
   "pygments_lexer": "ipython2",
   "version": "2.7.8"
  }
 },
 "nbformat": 4,
 "nbformat_minor": 0
}
