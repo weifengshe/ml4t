{
 "cells": [
  {
   "cell_type": "markdown",
   "metadata": {},
   "source": [
    "## Learn Numpy"
   ]
  },
  {
   "cell_type": "code",
   "execution_count": 10,
   "metadata": {
    "collapsed": false
   },
   "outputs": [
    {
     "name": "stdout",
     "output_type": "stream",
     "text": [
      "[ 3.9  4.7]\n"
     ]
    }
   ],
   "source": [
    "import numpy as np \n",
    "\n",
    "nd1 = np.array([2.5,3.9,4.7])\n",
    "\n",
    "print nd1[1:3]"
   ]
  },
  {
   "cell_type": "markdown",
   "metadata": {},
   "source": [
    "### numpy.empty\n",
    "\n",
    "* numpy.empty(shape, dtype=float, order='C')\n",
    "* Return a new array of given shape and type, without initializing entries."
   ]
  },
  {
   "cell_type": "code",
   "execution_count": 18,
   "metadata": {
    "collapsed": false
   },
   "outputs": [
    {
     "name": "stdout",
     "output_type": "stream",
     "text": [
      "[[  0.00000000e+000   0.00000000e+000   5.92878775e-323   1.27319747e-313\n",
      "    1.27319747e-313]\n",
      " [  1.27319747e-313   2.96439388e-323   1.90979621e-313   0.00000000e+000\n",
      "    2.75859453e-313]\n",
      " [  6.91691904e-323   8.34438771e-309   0.00000000e+000   0.00000000e+000\n",
      "    0.00000000e+000]]\n"
     ]
    }
   ],
   "source": [
    "nd2 =  np.empty((3,5))\n",
    "\n",
    "\n",
    "print nd2\n"
   ]
  },
  {
   "cell_type": "markdown",
   "metadata": {},
   "source": [
    "### numpy.ones\n",
    "\n",
    "* numpy.ones(shape, dtype=None, order='C')\n",
    "* Return a new array of given shape and type, filled with ones."
   ]
  },
  {
   "cell_type": "code",
   "execution_count": 21,
   "metadata": {
    "collapsed": false
   },
   "outputs": [
    {
     "name": "stdout",
     "output_type": "stream",
     "text": [
      "[[1 1 1]\n",
      " [1 1 1]]\n"
     ]
    }
   ],
   "source": [
    "nd3 = np.ones((2,3), dtype=np.int)\n",
    "\n",
    "print nd3"
   ]
  },
  {
   "cell_type": "markdown",
   "metadata": {},
   "source": [
    "### numpy.random.random\n",
    "\n",
    "* numpy.random.random(size=None)\n",
    "* Return random floats in the half-open interval [0.0, 1.0).\n",
    "\n",
    "* Results are from the “continuous uniform” distribution over the stated interval. To sample Unif[a, b), b > a multiply the output of random_sample by (b-a) and add a:"
   ]
  },
  {
   "cell_type": "code",
   "execution_count": 26,
   "metadata": {
    "collapsed": false
   },
   "outputs": [
    {
     "name": "stdout",
     "output_type": "stream",
     "text": [
      "0.965442483206\n",
      "[ 0.97877138  0.71751019  0.86159995  0.80576052  0.90163822]\n",
      "\n",
      "Three-by-two array of random numbers from [-5, 0):\n",
      "[[-0.30292573 -3.50285782]\n",
      " [-2.18321839 -2.7908848 ]\n",
      " [-4.55001862 -0.68595144]]\n"
     ]
    }
   ],
   "source": [
    "print np.random.random_sample()\n",
    "\n",
    "print np.random.random_sample((5,))\n",
    "\n",
    "print \"\\nThree-by-two array of random numbers from [-5, 0):\"\n",
    "\n",
    "print 5 * np.random.random_sample((3, 2)) - 5"
   ]
  },
  {
   "cell_type": "markdown",
   "metadata": {},
   "source": [
    "### numpy.random.randint\n",
    "\n",
    "* numpy.random.randint(low, high=None, size=None)\n",
    "* Return random integers from low (inclusive) to high (exclusive).\n",
    "\n",
    "* Return random integers from the “discrete uniform” distribution in the “half-open” interval [low, high). If high is * None (the default), then results are from [0, low)."
   ]
  },
  {
   "cell_type": "code",
   "execution_count": 32,
   "metadata": {
    "collapsed": false
   },
   "outputs": [
    {
     "name": "stdout",
     "output_type": "stream",
     "text": [
      "[0 0 0 1 0 0 1 0 0 1]\n",
      "[0 0 0 0 0 0 0 0 0 0]\n",
      "\n",
      "Generate a 2 x 4 array of ints between 0 and 4, inclusive:\n",
      "[[0 3 0 4]\n",
      " [3 1 3 3]]\n"
     ]
    }
   ],
   "source": [
    "print np.random.randint(2, size=10)\n",
    "\n",
    "print np.random.randint(1, size=10)\n",
    "\n",
    "print \"\\nGenerate a 2 x 4 array of ints between 0 and 4, inclusive:\"\n",
    "\n",
    "print np.random.randint(5, size=(2, 4))"
   ]
  },
  {
   "cell_type": "code",
   "execution_count": 36,
   "metadata": {
    "collapsed": false
   },
   "outputs": [
    {
     "name": "stdout",
     "output_type": "stream",
     "text": [
      "\n",
      "Get size of an array\n"
     ]
    },
    {
     "data": {
      "text/plain": [
       "10"
      ]
     },
     "execution_count": 36,
     "metadata": {},
     "output_type": "execute_result"
    }
   ],
   "source": [
    "print \"\\nGet size of an array\"\n",
    "\n",
    "np.random.random((2,5)).size"
   ]
  },
  {
   "cell_type": "markdown",
   "metadata": {},
   "source": [
    "NumPy Reference: [Mathematical functions](http://docs.scipy.org/doc/numpy/reference/routines.math.html)\n",
    "\n",
    "[numpy.sum](http://docs.scipy.org/doc/numpy/reference/generated/numpy.sum.html): Sum of elements - along rows, columns or all\n",
    "numpy.min, numpy.max, numpy.mean: Simple statistics\n",
    "Also: numpy.random.seed to (re)set the random number generator."
   ]
  },
  {
   "cell_type": "code",
   "execution_count": 48,
   "metadata": {
    "collapsed": false
   },
   "outputs": [
    {
     "name": "stdout",
     "output_type": "stream",
     "text": [
      "Array:\n",
      "[[2 0 5 1]\n",
      " [1 3 4 4]\n",
      " [9 2 9 1]\n",
      " [9 3 7 5]\n",
      " [4 7 0 3]]\n",
      "Sum:\n",
      "79\n",
      "Sum of each column\n",
      "[25 15 25 14]\n",
      "Sum of each row\n",
      "[ 8 12 21 24 14]\n"
     ]
    }
   ],
   "source": [
    "np.random.seed(693)\n",
    "\n",
    "a = np.random.randint(0, 10, size=(5,4))\n",
    "\n",
    "print \"Array:\\n\", a\n",
    "\n",
    "print \"Sum:\\n\", a.sum()\n",
    "\n",
    "print \"Sum of each column\\n\", a.sum(axis=0)\n",
    "print \"Sum of each row\\n\", a.sum(axis=1)\n",
    "\n"
   ]
  }
 ],
 "metadata": {
  "kernelspec": {
   "display_name": "Python 2",
   "language": "python",
   "name": "python2"
  },
  "language_info": {
   "codemirror_mode": {
    "name": "ipython",
    "version": 2
   },
   "file_extension": ".py",
   "mimetype": "text/x-python",
   "name": "python",
   "nbconvert_exporter": "python",
   "pygments_lexer": "ipython2",
   "version": "2.7.10"
  }
 },
 "nbformat": 4,
 "nbformat_minor": 0
}
